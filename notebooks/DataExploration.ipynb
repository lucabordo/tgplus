{
 "cells": [
  {
   "cell_type": "markdown",
   "id": "37124097",
   "metadata": {},
   "source": [
    "Interactive code used to explore the data;\n",
    "\n",
    "Code may migrate from this playground gradually, as I understand what I'm doing. "
   ]
  },
  {
   "cell_type": "code",
   "execution_count": null,
   "id": "ff1593b0",
   "metadata": {},
   "outputs": [],
   "source": [
    "import json\n",
    "from tgplus.data import get_movies_table, parse_genres"
   ]
  },
  {
   "cell_type": "code",
   "execution_count": null,
   "id": "302f8d07",
   "metadata": {},
   "outputs": [],
   "source": [
    "movies_table = get_movies_table()\n",
    "movies_table.columns"
   ]
  },
  {
   "cell_type": "code",
   "execution_count": null,
   "id": "6b847437",
   "metadata": {},
   "outputs": [],
   "source": [
    "# A glimpse:\n",
    "movies_table.iloc[:3]"
   ]
  },
  {
   "cell_type": "code",
   "execution_count": null,
   "id": "906b3239",
   "metadata": {},
   "outputs": [],
   "source": [
    "# Note that not all movies are in English:\n",
    "english_subset = movies_table[movies_table[\"original_language\"] == \"en\"]\n",
    "len(english_subset)"
   ]
  },
  {
   "cell_type": "code",
   "execution_count": null,
   "id": "077a7a2e",
   "metadata": {},
   "outputs": [],
   "source": [
    "# The overview column seems to contain all interesting text we want:\n",
    "english_subset[\"overview\"][0]"
   ]
  },
  {
   "cell_type": "code",
   "execution_count": null,
   "id": "b3a182b4",
   "metadata": {},
   "outputs": [],
   "source": [
    "# The genres columns seems to contain all interesting labelling info we want for now:\n",
    "english_subset[\"genres\"]"
   ]
  },
  {
   "cell_type": "code",
   "execution_count": null,
   "id": "1c4fa2b3",
   "metadata": {},
   "outputs": [],
   "source": [
    "# Note that the genres do not immediately deserialize to JSON, for easily fixable reasons:\n",
    "example_genre = english_subset[\"genres\"][1]\n",
    "example_genre"
   ]
  },
  {
   "cell_type": "code",
   "execution_count": null,
   "id": "c4b774c7",
   "metadata": {},
   "outputs": [],
   "source": [
    "parse_genres(example_genre)"
   ]
  },
  {
   "cell_type": "code",
   "execution_count": null,
   "id": "f0a22a02",
   "metadata": {},
   "outputs": [],
   "source": [
    "# This was used to pre-compute the taxnomy, and is used again for asserts at load time:\n",
    "{\n",
    "    name\n",
    "    for genres in movies_table[\"genres\"]\n",
    "    for name in parse_genres(genres)\n",
    "}"
   ]
  },
  {
   "cell_type": "code",
   "execution_count": null,
   "id": "c5964156",
   "metadata": {},
   "outputs": [],
   "source": []
  },
  {
   "cell_type": "code",
   "execution_count": null,
   "id": "5c4c0a03",
   "metadata": {},
   "outputs": [],
   "source": []
  }
 ],
 "metadata": {
  "kernelspec": {
   "display_name": "Python 3 (ipykernel)",
   "language": "python",
   "name": "python3"
  },
  "language_info": {
   "codemirror_mode": {
    "name": "ipython",
    "version": 3
   },
   "file_extension": ".py",
   "mimetype": "text/x-python",
   "name": "python",
   "nbconvert_exporter": "python",
   "pygments_lexer": "ipython3",
   "version": "3.11.3"
  }
 },
 "nbformat": 4,
 "nbformat_minor": 5
}
