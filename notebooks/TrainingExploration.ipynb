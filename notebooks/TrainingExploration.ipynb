{
 "cells": [
  {
   "cell_type": "markdown",
   "id": "e9848c91",
   "metadata": {},
   "source": [
    "Exploration code for training; \n",
    "\n",
    "code prototyped here will gradually move to the `training.py` file."
   ]
  },
  {
   "cell_type": "code",
   "execution_count": null,
   "id": "e4c4d238",
   "metadata": {},
   "outputs": [],
   "source": [
    "from tgplus.data import get_movies_data\n",
    "from tgplus.training import load_encoder"
   ]
  },
  {
   "cell_type": "code",
   "execution_count": null,
   "id": "7d24eabc",
   "metadata": {},
   "outputs": [],
   "source": [
    "training, test = get_movies_data()"
   ]
  },
  {
   "cell_type": "code",
   "execution_count": null,
   "id": "ee44ff2d",
   "metadata": {},
   "outputs": [],
   "source": [
    "encode_function = load_encoder()"
   ]
  },
  {
   "cell_type": "code",
   "execution_count": null,
   "id": "59bccb5c",
   "metadata": {},
   "outputs": [],
   "source": [
    "encode_function = load_encoder(parallel=True)"
   ]
  },
  {
   "cell_type": "code",
   "execution_count": null,
   "id": "74849ed6",
   "metadata": {},
   "outputs": [],
   "source": [
    "%time embeddings = encode_function([text for text, _genres in training][:1000])"
   ]
  },
  {
   "cell_type": "code",
   "execution_count": null,
   "id": "dac2306f",
   "metadata": {},
   "outputs": [],
   "source": []
  }
 ],
 "metadata": {
  "kernelspec": {
   "display_name": "tgplus",
   "language": "python",
   "name": "tgplus"
  },
  "language_info": {
   "codemirror_mode": {
    "name": "ipython",
    "version": 3
   },
   "file_extension": ".py",
   "mimetype": "text/x-python",
   "name": "python",
   "nbconvert_exporter": "python",
   "pygments_lexer": "ipython3",
   "version": "3.11.3"
  }
 },
 "nbformat": 4,
 "nbformat_minor": 5
}
