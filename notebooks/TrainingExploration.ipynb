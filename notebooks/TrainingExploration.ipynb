{
 "cells": [
  {
   "cell_type": "markdown",
   "id": "0557ec7c",
   "metadata": {},
   "source": [
    "Exploration code for training; \n",
    "\n",
    "code prototyped here will gradually move to the `training.py` file."
   ]
  },
  {
   "cell_type": "code",
   "execution_count": null,
   "id": "3f4a9206",
   "metadata": {},
   "outputs": [],
   "source": [
    "from pathlib import Path\n",
    "from sentence_transformers import SentenceTransformer\n",
    "from tgplus.data import get_movies_data\n",
    "from tqdm import tqdm"
   ]
  },
  {
   "cell_type": "code",
   "execution_count": null,
   "id": "45e7efb0",
   "metadata": {},
   "outputs": [],
   "source": [
    "training, test = get_movies_data()"
   ]
  },
  {
   "cell_type": "code",
   "execution_count": null,
   "id": "4f58a352",
   "metadata": {},
   "outputs": [],
   "source": [
    "encoder = SentenceTransformer('all-MiniLM-L6-v2')"
   ]
  },
  {
   "cell_type": "code",
   "execution_count": null,
   "id": "e2e1327e",
   "metadata": {},
   "outputs": [],
   "source": [
    "encoder.encode([text for text, _genres in training])"
   ]
  },
  {
   "cell_type": "code",
   "execution_count": null,
   "id": "e7a4d6c5",
   "metadata": {},
   "outputs": [],
   "source": []
  },
  {
   "cell_type": "code",
   "execution_count": null,
   "id": "1d3f0bdc",
   "metadata": {},
   "outputs": [],
   "source": []
  }
 ],
 "metadata": {
  "kernelspec": {
   "display_name": "tgplus",
   "language": "python",
   "name": "tgplus"
  },
  "language_info": {
   "codemirror_mode": {
    "name": "ipython",
    "version": 3
   },
   "file_extension": ".py",
   "mimetype": "text/x-python",
   "name": "python",
   "nbconvert_exporter": "python",
   "pygments_lexer": "ipython3",
   "version": "3.11.3"
  }
 },
 "nbformat": 4,
 "nbformat_minor": 5
}
