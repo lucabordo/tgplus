{
 "cells": [
  {
   "cell_type": "markdown",
   "id": "f616c850",
   "metadata": {},
   "source": [
    "Exploration code for training; \n",
    "\n",
    "code prototyped here will gradually move to the `training.py` file."
   ]
  },
  {
   "cell_type": "code",
   "execution_count": null,
   "id": "46762ee2",
   "metadata": {},
   "outputs": [],
   "source": [
    "import numpy as np\n",
    "from tgplus.globals import one_hot_encode, one_hot_decode\n",
    "from tgplus.data import get_movies_data\n",
    "from tgplus.training import load_encoder, load_data_with_embeddings, train_model"
   ]
  },
  {
   "cell_type": "code",
   "execution_count": null,
   "id": "c444ea98",
   "metadata": {},
   "outputs": [],
   "source": [
    "training, test = get_movies_data()"
   ]
  },
  {
   "cell_type": "code",
   "execution_count": null,
   "id": "248ed9f4",
   "metadata": {},
   "outputs": [],
   "source": [
    "encode_function = load_encoder(parallel=False)"
   ]
  },
  {
   "cell_type": "code",
   "execution_count": null,
   "id": "ef2f98ae",
   "metadata": {},
   "outputs": [],
   "source": [
    "%time embeddings = encode_function([text for text, _genres in training][:10])"
   ]
  },
  {
   "cell_type": "code",
   "execution_count": null,
   "id": "7964555c",
   "metadata": {},
   "outputs": [],
   "source": [
    "# This will be slow within notebooks if we haven't pre-computed the embeddings:\n",
    "training_data = load_data_with_embeddings()\n",
    "text, genres, embedding = training_data[0]\n",
    "text, genres, embedding.shape, embedding.dtype"
   ]
  },
  {
   "cell_type": "code",
   "execution_count": null,
   "id": "dcdc15ab",
   "metadata": {},
   "outputs": [],
   "source": [
    "predictor = train_model(training_data)"
   ]
  },
  {
   "cell_type": "code",
   "execution_count": null,
   "id": "4a83162a",
   "metadata": {},
   "outputs": [],
   "source": [
    "text, genres, embedding = training_data[0]\n",
    "text, genres, predictor(text)"
   ]
  },
  {
   "cell_type": "code",
   "execution_count": null,
   "id": "dc98690c",
   "metadata": {},
   "outputs": [],
   "source": [
    "predictor(\"A movie about penguins in Antarctica building a spaceship to go to Mars.\")"
   ]
  },
  {
   "cell_type": "code",
   "execution_count": null,
   "id": "04caf2df",
   "metadata": {},
   "outputs": [],
   "source": []
  }
 ],
 "metadata": {
  "kernelspec": {
   "display_name": "tgplus",
   "language": "python",
   "name": "tgplus"
  },
  "language_info": {
   "codemirror_mode": {
    "name": "ipython",
    "version": 3
   },
   "file_extension": ".py",
   "mimetype": "text/x-python",
   "name": "python",
   "nbconvert_exporter": "python",
   "pygments_lexer": "ipython3",
   "version": "3.11.3"
  }
 },
 "nbformat": 4,
 "nbformat_minor": 5
}
